{
 "metadata": {
  "language_info": {
   "codemirror_mode": {
    "name": "ipython",
    "version": 3
   },
   "file_extension": ".py",
   "mimetype": "text/x-python",
   "name": "python",
   "nbconvert_exporter": "python",
   "pygments_lexer": "ipython3",
   "version": "3.9.1"
  },
  "orig_nbformat": 2,
  "kernelspec": {
   "name": "python391jvsc74a57bd0e106d2cf1c648e81a54c6777ff41d798abe773aa95d212a56059d95366da79e3",
   "display_name": "Python 3.9.1 64-bit"
  },
  "metadata": {
   "interpreter": {
    "hash": "e106d2cf1c648e81a54c6777ff41d798abe773aa95d212a56059d95366da79e3"
   }
  }
 },
 "nbformat": 4,
 "nbformat_minor": 2,
 "cells": [
  {
   "cell_type": "code",
   "execution_count": 46,
   "metadata": {},
   "outputs": [],
   "source": [
    "import pandas as pd\n",
    "import numpy as np\n",
    "import matplotlib.pyplot as pyplot\n",
    "%matplotlib inline\n",
    "import statsmodels.stats.api as sms\n",
    "import math\n",
    "import scipy.stats as stats"
   ]
  },
  {
   "source": [
    "# Data Wrangling/Cleaning"
   ],
   "cell_type": "markdown",
   "metadata": {}
  },
  {
   "cell_type": "code",
   "execution_count": 47,
   "metadata": {},
   "outputs": [],
   "source": [
    "# merging two data sets\n",
    "base_df = pd.read_csv('Baseline.csv')\n",
    "treatment_df = pd.read_csv('Testing.csv')\n",
    "\n",
    "df = pd.merge(left=base_df, right=treatment_df, how='left', left_on='prequal_id', right_on='prequal_id')"
   ]
  },
  {
   "cell_type": "code",
   "execution_count": 48,
   "metadata": {},
   "outputs": [
    {
     "output_type": "stream",
     "name": "stdout",
     "text": [
      "<class 'pandas.core.frame.DataFrame'>\nInt64Index: 190976 entries, 0 to 190975\nData columns (total 4 columns):\n #   Column             Non-Null Count   Dtype \n---  ------             --------------   ----- \n 0   prequal_id         190976 non-null  object\n 1   prequal_date       190976 non-null  object\n 2   completed_prequal  190976 non-null  int64 \n 3   assignment_date    8609 non-null    object\ndtypes: int64(1), object(3)\nmemory usage: 7.3+ MB\n"
     ]
    }
   ],
   "source": [
    "# checking data types\n",
    "df.info()"
   ]
  },
  {
   "cell_type": "code",
   "execution_count": 49,
   "metadata": {},
   "outputs": [
    {
     "output_type": "execute_result",
     "data": {
      "text/plain": [
       "                             prequal_id prequal_date  completed_prequal  \\\n",
       "0  00081cb5-27bb-428a-bc53-076bacc7ad02    6/22/2019                  1   \n",
       "1  00120f05-bf9d-40db-99d1-05a8cbd8aa0e    4/16/2019                  0   \n",
       "2  00139f6d-0af4-49c5-b26f-f9c999a06bcb     5/9/2019                  1   \n",
       "3  0019854e-e4c2-42df-be79-59cf1a13ac89    1/17/2019                  0   \n",
       "4  0019cb64-a44c-4320-b149-9c0167c714e9    4/16/2019                  1   \n",
       "\n",
       "  assignment_date  \n",
       "0       6/22/2019  \n",
       "1             NaN  \n",
       "2             NaN  \n",
       "3             NaN  \n",
       "4             NaN  "
      ],
      "text/html": "<div>\n<style scoped>\n    .dataframe tbody tr th:only-of-type {\n        vertical-align: middle;\n    }\n\n    .dataframe tbody tr th {\n        vertical-align: top;\n    }\n\n    .dataframe thead th {\n        text-align: right;\n    }\n</style>\n<table border=\"1\" class=\"dataframe\">\n  <thead>\n    <tr style=\"text-align: right;\">\n      <th></th>\n      <th>prequal_id</th>\n      <th>prequal_date</th>\n      <th>completed_prequal</th>\n      <th>assignment_date</th>\n    </tr>\n  </thead>\n  <tbody>\n    <tr>\n      <th>0</th>\n      <td>00081cb5-27bb-428a-bc53-076bacc7ad02</td>\n      <td>6/22/2019</td>\n      <td>1</td>\n      <td>6/22/2019</td>\n    </tr>\n    <tr>\n      <th>1</th>\n      <td>00120f05-bf9d-40db-99d1-05a8cbd8aa0e</td>\n      <td>4/16/2019</td>\n      <td>0</td>\n      <td>NaN</td>\n    </tr>\n    <tr>\n      <th>2</th>\n      <td>00139f6d-0af4-49c5-b26f-f9c999a06bcb</td>\n      <td>5/9/2019</td>\n      <td>1</td>\n      <td>NaN</td>\n    </tr>\n    <tr>\n      <th>3</th>\n      <td>0019854e-e4c2-42df-be79-59cf1a13ac89</td>\n      <td>1/17/2019</td>\n      <td>0</td>\n      <td>NaN</td>\n    </tr>\n    <tr>\n      <th>4</th>\n      <td>0019cb64-a44c-4320-b149-9c0167c714e9</td>\n      <td>4/16/2019</td>\n      <td>1</td>\n      <td>NaN</td>\n    </tr>\n  </tbody>\n</table>\n</div>"
     },
     "metadata": {},
     "execution_count": 49
    }
   ],
   "source": [
    "# checking first 5 rows\n",
    "df.head()"
   ]
  },
  {
   "cell_type": "code",
   "execution_count": 50,
   "metadata": {},
   "outputs": [],
   "source": [
    "# convert dates into date time datatypes\n",
    "df['prequal_date'] = pd.to_datetime(df['prequal_date'])\n",
    "df['assignment_date'] = pd.to_datetime(df['assignment_date'])"
   ]
  },
  {
   "cell_type": "code",
   "execution_count": 51,
   "metadata": {},
   "outputs": [
    {
     "output_type": "execute_result",
     "data": {
      "text/plain": [
       "                             prequal_id prequal_date  completed_prequal  \\\n",
       "0  00081cb5-27bb-428a-bc53-076bacc7ad02   2019-06-22                  1   \n",
       "1  00120f05-bf9d-40db-99d1-05a8cbd8aa0e   2019-04-16                  0   \n",
       "2  00139f6d-0af4-49c5-b26f-f9c999a06bcb   2019-05-09                  1   \n",
       "3  0019854e-e4c2-42df-be79-59cf1a13ac89   2019-01-17                  0   \n",
       "4  0019cb64-a44c-4320-b149-9c0167c714e9   2019-04-16                  1   \n",
       "\n",
       "  assignment_date  \n",
       "0      2019-06-22  \n",
       "1             NaT  \n",
       "2             NaT  \n",
       "3             NaT  \n",
       "4             NaT  "
      ],
      "text/html": "<div>\n<style scoped>\n    .dataframe tbody tr th:only-of-type {\n        vertical-align: middle;\n    }\n\n    .dataframe tbody tr th {\n        vertical-align: top;\n    }\n\n    .dataframe thead th {\n        text-align: right;\n    }\n</style>\n<table border=\"1\" class=\"dataframe\">\n  <thead>\n    <tr style=\"text-align: right;\">\n      <th></th>\n      <th>prequal_id</th>\n      <th>prequal_date</th>\n      <th>completed_prequal</th>\n      <th>assignment_date</th>\n    </tr>\n  </thead>\n  <tbody>\n    <tr>\n      <th>0</th>\n      <td>00081cb5-27bb-428a-bc53-076bacc7ad02</td>\n      <td>2019-06-22</td>\n      <td>1</td>\n      <td>2019-06-22</td>\n    </tr>\n    <tr>\n      <th>1</th>\n      <td>00120f05-bf9d-40db-99d1-05a8cbd8aa0e</td>\n      <td>2019-04-16</td>\n      <td>0</td>\n      <td>NaT</td>\n    </tr>\n    <tr>\n      <th>2</th>\n      <td>00139f6d-0af4-49c5-b26f-f9c999a06bcb</td>\n      <td>2019-05-09</td>\n      <td>1</td>\n      <td>NaT</td>\n    </tr>\n    <tr>\n      <th>3</th>\n      <td>0019854e-e4c2-42df-be79-59cf1a13ac89</td>\n      <td>2019-01-17</td>\n      <td>0</td>\n      <td>NaT</td>\n    </tr>\n    <tr>\n      <th>4</th>\n      <td>0019cb64-a44c-4320-b149-9c0167c714e9</td>\n      <td>2019-04-16</td>\n      <td>1</td>\n      <td>NaT</td>\n    </tr>\n  </tbody>\n</table>\n</div>"
     },
     "metadata": {},
     "execution_count": 51
    }
   ],
   "source": [
    "# checking date time conversion\n",
    "df.head()"
   ]
  },
  {
   "cell_type": "code",
   "execution_count": 52,
   "metadata": {},
   "outputs": [
    {
     "output_type": "stream",
     "name": "stdout",
     "text": [
      "<class 'pandas.core.frame.DataFrame'>\nInt64Index: 190976 entries, 0 to 190975\nData columns (total 4 columns):\n #   Column             Non-Null Count   Dtype         \n---  ------             --------------   -----         \n 0   prequal_id         190976 non-null  object        \n 1   prequal_date       190976 non-null  datetime64[ns]\n 2   completed_prequal  190976 non-null  int64         \n 3   assignment_date    8609 non-null    datetime64[ns]\ndtypes: datetime64[ns](2), int64(1), object(1)\nmemory usage: 7.3+ MB\n"
     ]
    }
   ],
   "source": [
    "# verifying info\n",
    "df.info()"
   ]
  },
  {
   "cell_type": "code",
   "execution_count": 53,
   "metadata": {},
   "outputs": [
    {
     "output_type": "execute_result",
     "data": {
      "text/plain": [
       "                              prequal_id prequal_date  completed_prequal  \\\n",
       "0   00081cb5-27bb-428a-bc53-076bacc7ad02   2019-06-22                  1   \n",
       "7   0023b297-93a5-4686-ab48-53f2fa762164   2019-06-05                  1   \n",
       "8   003fedad-6a78-4a8b-bf1b-60a9390c8f2a   2019-06-11                  0   \n",
       "23  012b89fd-ae0b-4532-890d-78f9aa1696c8   2019-06-11                  0   \n",
       "24  012ee8be-85d0-40a1-98bc-ccca4d0f1860   2019-06-10                  1   \n",
       "\n",
       "   assignment_date  \n",
       "0       2019-06-22  \n",
       "7              NaT  \n",
       "8              NaT  \n",
       "23             NaT  \n",
       "24             NaT  "
      ],
      "text/html": "<div>\n<style scoped>\n    .dataframe tbody tr th:only-of-type {\n        vertical-align: middle;\n    }\n\n    .dataframe tbody tr th {\n        vertical-align: top;\n    }\n\n    .dataframe thead th {\n        text-align: right;\n    }\n</style>\n<table border=\"1\" class=\"dataframe\">\n  <thead>\n    <tr style=\"text-align: right;\">\n      <th></th>\n      <th>prequal_id</th>\n      <th>prequal_date</th>\n      <th>completed_prequal</th>\n      <th>assignment_date</th>\n    </tr>\n  </thead>\n  <tbody>\n    <tr>\n      <th>0</th>\n      <td>00081cb5-27bb-428a-bc53-076bacc7ad02</td>\n      <td>2019-06-22</td>\n      <td>1</td>\n      <td>2019-06-22</td>\n    </tr>\n    <tr>\n      <th>7</th>\n      <td>0023b297-93a5-4686-ab48-53f2fa762164</td>\n      <td>2019-06-05</td>\n      <td>1</td>\n      <td>NaT</td>\n    </tr>\n    <tr>\n      <th>8</th>\n      <td>003fedad-6a78-4a8b-bf1b-60a9390c8f2a</td>\n      <td>2019-06-11</td>\n      <td>0</td>\n      <td>NaT</td>\n    </tr>\n    <tr>\n      <th>23</th>\n      <td>012b89fd-ae0b-4532-890d-78f9aa1696c8</td>\n      <td>2019-06-11</td>\n      <td>0</td>\n      <td>NaT</td>\n    </tr>\n    <tr>\n      <th>24</th>\n      <td>012ee8be-85d0-40a1-98bc-ccca4d0f1860</td>\n      <td>2019-06-10</td>\n      <td>1</td>\n      <td>NaT</td>\n    </tr>\n  </tbody>\n</table>\n</div>"
     },
     "metadata": {},
     "execution_count": 53
    }
   ],
   "source": [
    "# filtering and assigning df with only June data\n",
    "df = df[df['prequal_date'].dt.month.isin([6])]\n",
    "df.head()"
   ]
  },
  {
   "cell_type": "code",
   "execution_count": 54,
   "metadata": {},
   "outputs": [
    {
     "output_type": "execute_result",
     "data": {
      "text/plain": [
       "prequal_id               0\n",
       "prequal_date             0\n",
       "completed_prequal        0\n",
       "assignment_date      28057\n",
       "dtype: int64"
      ]
     },
     "metadata": {},
     "execution_count": 54
    }
   ],
   "source": [
    "# checking for missing values\n",
    "df.isna().sum()"
   ]
  },
  {
   "cell_type": "code",
   "execution_count": 55,
   "metadata": {},
   "outputs": [],
   "source": [
    "# fill missing zeroes\n",
    "df['assignment_date'] = df['assignment_date'].fillna(0)"
   ]
  },
  {
   "cell_type": "code",
   "execution_count": 56,
   "metadata": {},
   "outputs": [
    {
     "output_type": "execute_result",
     "data": {
      "text/plain": [
       "                                  prequal_id prequal_date  completed_prequal  \\\n",
       "0       00081cb5-27bb-428a-bc53-076bacc7ad02   2019-06-22                  1   \n",
       "7       0023b297-93a5-4686-ab48-53f2fa762164   2019-06-05                  1   \n",
       "8       003fedad-6a78-4a8b-bf1b-60a9390c8f2a   2019-06-11                  0   \n",
       "23      012b89fd-ae0b-4532-890d-78f9aa1696c8   2019-06-11                  0   \n",
       "24      012ee8be-85d0-40a1-98bc-ccca4d0f1860   2019-06-10                  1   \n",
       "...                                      ...          ...                ...   \n",
       "190939  fe8ba9cd-1ad3-489e-986d-e9367890e212   2019-06-16                  1   \n",
       "190947  fee1488f-f17d-49e5-96e7-a879b13b4d73   2019-06-22                  0   \n",
       "190948  fee57af3-f195-4c70-8445-71cfcb41a45f   2019-06-01                  0   \n",
       "190950  fee61ca4-7158-45b3-9768-101c7d0e3556   2019-06-24                  0   \n",
       "190974  ffe6c21d-ab34-4ff7-89d2-f20492267e9c   2019-06-30                  1   \n",
       "\n",
       "            assignment_date      group  \n",
       "0       2019-06-22 00:00:00  treatment  \n",
       "7                         0    control  \n",
       "8                         0    control  \n",
       "23                        0    control  \n",
       "24                        0    control  \n",
       "...                     ...        ...  \n",
       "190939                    0    control  \n",
       "190947  2019-06-22 00:00:00  treatment  \n",
       "190948                    0    control  \n",
       "190950                    0    control  \n",
       "190974  2019-06-30 00:00:00  treatment  \n",
       "\n",
       "[36666 rows x 5 columns]"
      ],
      "text/html": "<div>\n<style scoped>\n    .dataframe tbody tr th:only-of-type {\n        vertical-align: middle;\n    }\n\n    .dataframe tbody tr th {\n        vertical-align: top;\n    }\n\n    .dataframe thead th {\n        text-align: right;\n    }\n</style>\n<table border=\"1\" class=\"dataframe\">\n  <thead>\n    <tr style=\"text-align: right;\">\n      <th></th>\n      <th>prequal_id</th>\n      <th>prequal_date</th>\n      <th>completed_prequal</th>\n      <th>assignment_date</th>\n      <th>group</th>\n    </tr>\n  </thead>\n  <tbody>\n    <tr>\n      <th>0</th>\n      <td>00081cb5-27bb-428a-bc53-076bacc7ad02</td>\n      <td>2019-06-22</td>\n      <td>1</td>\n      <td>2019-06-22 00:00:00</td>\n      <td>treatment</td>\n    </tr>\n    <tr>\n      <th>7</th>\n      <td>0023b297-93a5-4686-ab48-53f2fa762164</td>\n      <td>2019-06-05</td>\n      <td>1</td>\n      <td>0</td>\n      <td>control</td>\n    </tr>\n    <tr>\n      <th>8</th>\n      <td>003fedad-6a78-4a8b-bf1b-60a9390c8f2a</td>\n      <td>2019-06-11</td>\n      <td>0</td>\n      <td>0</td>\n      <td>control</td>\n    </tr>\n    <tr>\n      <th>23</th>\n      <td>012b89fd-ae0b-4532-890d-78f9aa1696c8</td>\n      <td>2019-06-11</td>\n      <td>0</td>\n      <td>0</td>\n      <td>control</td>\n    </tr>\n    <tr>\n      <th>24</th>\n      <td>012ee8be-85d0-40a1-98bc-ccca4d0f1860</td>\n      <td>2019-06-10</td>\n      <td>1</td>\n      <td>0</td>\n      <td>control</td>\n    </tr>\n    <tr>\n      <th>...</th>\n      <td>...</td>\n      <td>...</td>\n      <td>...</td>\n      <td>...</td>\n      <td>...</td>\n    </tr>\n    <tr>\n      <th>190939</th>\n      <td>fe8ba9cd-1ad3-489e-986d-e9367890e212</td>\n      <td>2019-06-16</td>\n      <td>1</td>\n      <td>0</td>\n      <td>control</td>\n    </tr>\n    <tr>\n      <th>190947</th>\n      <td>fee1488f-f17d-49e5-96e7-a879b13b4d73</td>\n      <td>2019-06-22</td>\n      <td>0</td>\n      <td>2019-06-22 00:00:00</td>\n      <td>treatment</td>\n    </tr>\n    <tr>\n      <th>190948</th>\n      <td>fee57af3-f195-4c70-8445-71cfcb41a45f</td>\n      <td>2019-06-01</td>\n      <td>0</td>\n      <td>0</td>\n      <td>control</td>\n    </tr>\n    <tr>\n      <th>190950</th>\n      <td>fee61ca4-7158-45b3-9768-101c7d0e3556</td>\n      <td>2019-06-24</td>\n      <td>0</td>\n      <td>0</td>\n      <td>control</td>\n    </tr>\n    <tr>\n      <th>190974</th>\n      <td>ffe6c21d-ab34-4ff7-89d2-f20492267e9c</td>\n      <td>2019-06-30</td>\n      <td>1</td>\n      <td>2019-06-30 00:00:00</td>\n      <td>treatment</td>\n    </tr>\n  </tbody>\n</table>\n<p>36666 rows × 5 columns</p>\n</div>"
     },
     "metadata": {},
     "execution_count": 56
    }
   ],
   "source": [
    "# creating a group type column based on assignment_date\n",
    "df['group'] = np.where(df['assignment_date'] == 0, 'control', 'treatment')\n",
    "df"
   ]
  },
  {
   "cell_type": "code",
   "execution_count": 57,
   "metadata": {},
   "outputs": [
    {
     "output_type": "execute_result",
     "data": {
      "text/plain": [
       "(36666, 5)"
      ]
     },
     "metadata": {},
     "execution_count": 57
    }
   ],
   "source": [
    "# checking df size\n",
    "df.shape"
   ]
  },
  {
   "cell_type": "code",
   "execution_count": 58,
   "metadata": {},
   "outputs": [
    {
     "output_type": "stream",
     "name": "stdout",
     "text": [
      "There are NO duplicate prequal_id's.\n"
     ]
    }
   ],
   "source": [
    "# checking unique users\n",
    "if df[\"prequal_id\"].count() == df[\"prequal_id\"].nunique(): \n",
    "    print(\"There are NO duplicate prequal_id's.\")\n",
    "else:\n",
    "    print(\"There are duplicate prequal_id's.\")"
   ]
  },
  {
   "cell_type": "code",
   "execution_count": 59,
   "metadata": {},
   "outputs": [
    {
     "output_type": "execute_result",
     "data": {
      "text/plain": [
       "0.539437080674194"
      ]
     },
     "metadata": {},
     "execution_count": 59
    }
   ],
   "source": [
    "# proportion of users converted\n",
    "df['completed_prequal'].mean()"
   ]
  },
  {
   "cell_type": "code",
   "execution_count": 60,
   "metadata": {},
   "outputs": [
    {
     "output_type": "execute_result",
     "data": {
      "text/plain": [
       "control      28057\n",
       "treatment     8609\n",
       "Name: group, dtype: int64"
      ]
     },
     "metadata": {},
     "execution_count": 60
    }
   ],
   "source": [
    "df['group'].value_counts()"
   ]
  },
  {
   "source": [
    "# Exploratory Data Analysis"
   ],
   "cell_type": "markdown",
   "metadata": {}
  },
  {
   "cell_type": "code",
   "execution_count": 61,
   "metadata": {},
   "outputs": [
    {
     "output_type": "execute_result",
     "data": {
      "text/plain": [
       "0.5375842035855579"
      ]
     },
     "metadata": {},
     "execution_count": 61
    }
   ],
   "source": [
    "# probability of converted individuals in the control group\n",
    "df.completed_prequal[df.group == 'control'].mean()"
   ]
  },
  {
   "cell_type": "code",
   "execution_count": 62,
   "metadata": {},
   "outputs": [
    {
     "output_type": "execute_result",
     "data": {
      "text/plain": [
       "0.5454756650017424"
      ]
     },
     "metadata": {},
     "execution_count": 62
    }
   ],
   "source": [
    "# probability of converted individuals in the treatment group\n",
    "df.completed_prequal[df.group == 'treatment'].mean()"
   ]
  },
  {
   "cell_type": "code",
   "execution_count": 63,
   "metadata": {},
   "outputs": [
    {
     "output_type": "execute_result",
     "data": {
      "text/plain": [
       "completed_prequal         0         1\n",
       "group                                \n",
       "control            0.462416  0.537584\n",
       "treatment          0.454524  0.545476"
      ],
      "text/html": "<div>\n<style scoped>\n    .dataframe tbody tr th:only-of-type {\n        vertical-align: middle;\n    }\n\n    .dataframe tbody tr th {\n        vertical-align: top;\n    }\n\n    .dataframe thead th {\n        text-align: right;\n    }\n</style>\n<table border=\"1\" class=\"dataframe\">\n  <thead>\n    <tr style=\"text-align: right;\">\n      <th>completed_prequal</th>\n      <th>0</th>\n      <th>1</th>\n    </tr>\n    <tr>\n      <th>group</th>\n      <th></th>\n      <th></th>\n    </tr>\n  </thead>\n  <tbody>\n    <tr>\n      <th>control</th>\n      <td>0.462416</td>\n      <td>0.537584</td>\n    </tr>\n    <tr>\n      <th>treatment</th>\n      <td>0.454524</td>\n      <td>0.545476</td>\n    </tr>\n  </tbody>\n</table>\n</div>"
     },
     "metadata": {},
     "execution_count": 63
    }
   ],
   "source": [
    "# cross tabulation of percentages (non-conversion rate and conversion rate) by group\n",
    "pd.crosstab(df['group'], df['completed_prequal']).apply(lambda r: r/r.sum(), axis=1)"
   ]
  },
  {
   "cell_type": "code",
   "execution_count": 64,
   "metadata": {},
   "outputs": [
    {
     "output_type": "stream",
     "name": "stdout",
     "text": [
      "Non-relative difference of conversion rate: 0.79%\nRelative difference of conversion rate: 1.47%\n"
     ]
    }
   ],
   "source": [
    "# Difference calculation\n",
    "ctrl = 0.537584\n",
    "trt = 0.545476\n",
    "\n",
    "non_relative_diff = trt - ctrl\n",
    "print('Non-relative difference of conversion rate: {:.2%}'.format(non_relative_diff))\n",
    "\n",
    "relative_diff = (trt - ctrl) / ctrl\n",
    "print('Relative difference of conversion rate: {:.2%}'.format(relative_diff))"
   ]
  },
  {
   "source": [
    "# Hypothesis Testing\n",
    "\n",
    "Research question: Is there evidence that the probability of a 3-field form increase or decrease conversion rate compared to a 5-field form?\n",
    "\n",
    "- **Null hypothesis**: The control and experiment groups have the same probability of completing the form.\n",
    "- **Alternative hypothesis**: The control and experiment groups have a different probability of completing the form.\n",
    "\n",
    "We can safely assume that this test checked the assumptions:\n",
    "- independence\n",
    "- random sample\n",
    "- sample size (n) > 30"
   ],
   "cell_type": "markdown",
   "metadata": {}
  },
  {
   "cell_type": "code",
   "execution_count": 65,
   "metadata": {},
   "outputs": [],
   "source": [
    "# Subsetting necessary columns\n",
    "df2 = df[['completed_prequal', 'group']]\n",
    "\n",
    "# Renaming column to a simpler name\n",
    "df2 = df2.rename(columns={'completed_prequal': 'converted'})"
   ]
  },
  {
   "cell_type": "code",
   "execution_count": 66,
   "metadata": {},
   "outputs": [
    {
     "output_type": "execute_result",
     "data": {
      "text/plain": [
       "        converted      group\n",
       "0               1  treatment\n",
       "7               1    control\n",
       "8               0    control\n",
       "23              0    control\n",
       "24              1    control\n",
       "...           ...        ...\n",
       "190939          1    control\n",
       "190947          0  treatment\n",
       "190948          0    control\n",
       "190950          0    control\n",
       "190974          1  treatment\n",
       "\n",
       "[36666 rows x 2 columns]"
      ],
      "text/html": "<div>\n<style scoped>\n    .dataframe tbody tr th:only-of-type {\n        vertical-align: middle;\n    }\n\n    .dataframe tbody tr th {\n        vertical-align: top;\n    }\n\n    .dataframe thead th {\n        text-align: right;\n    }\n</style>\n<table border=\"1\" class=\"dataframe\">\n  <thead>\n    <tr style=\"text-align: right;\">\n      <th></th>\n      <th>converted</th>\n      <th>group</th>\n    </tr>\n  </thead>\n  <tbody>\n    <tr>\n      <th>0</th>\n      <td>1</td>\n      <td>treatment</td>\n    </tr>\n    <tr>\n      <th>7</th>\n      <td>1</td>\n      <td>control</td>\n    </tr>\n    <tr>\n      <th>8</th>\n      <td>0</td>\n      <td>control</td>\n    </tr>\n    <tr>\n      <th>23</th>\n      <td>0</td>\n      <td>control</td>\n    </tr>\n    <tr>\n      <th>24</th>\n      <td>1</td>\n      <td>control</td>\n    </tr>\n    <tr>\n      <th>...</th>\n      <td>...</td>\n      <td>...</td>\n    </tr>\n    <tr>\n      <th>190939</th>\n      <td>1</td>\n      <td>control</td>\n    </tr>\n    <tr>\n      <th>190947</th>\n      <td>0</td>\n      <td>treatment</td>\n    </tr>\n    <tr>\n      <th>190948</th>\n      <td>0</td>\n      <td>control</td>\n    </tr>\n    <tr>\n      <th>190950</th>\n      <td>0</td>\n      <td>control</td>\n    </tr>\n    <tr>\n      <th>190974</th>\n      <td>1</td>\n      <td>treatment</td>\n    </tr>\n  </tbody>\n</table>\n<p>36666 rows × 2 columns</p>\n</div>"
     },
     "metadata": {},
     "execution_count": 66
    }
   ],
   "source": [
    "df2"
   ]
  },
  {
   "cell_type": "code",
   "execution_count": 67,
   "metadata": {},
   "outputs": [
    {
     "output_type": "stream",
     "name": "stdout",
     "text": [
      "Percentage of control group: 76.52%\nPercentage of treatment group: 23.48%\n"
     ]
    }
   ],
   "source": [
    "# Calculating control group\n",
    "control_group = (df2['group'] == 'control')\n",
    "\n",
    "control_conv = df2['converted'][control_group].sum()\n",
    "control_total = df2['converted'][control_group].count()\n",
    "\n",
    "# Calculating treatment group\n",
    "treatment_group = (df2['group'] == 'treatment')\n",
    "\n",
    "treatment_conv = df2['converted'][treatment_group].sum()\n",
    "treatment_total = df2['converted'][treatment_group].count()\n",
    "\n",
    "# Percentage of each group\n",
    "print('Percentage of control group: {:.2%}'.format(control_total / len(df2['converted'])))\n",
    "print('Percentage of treatment group: {:.2%}'.format(treatment_total / len(df2['converted'])))"
   ]
  },
  {
   "cell_type": "code",
   "execution_count": 83,
   "metadata": {},
   "outputs": [
    {
     "output_type": "stream",
     "name": "stdout",
     "text": [
      "Number of control applicants who converted with 5-field form: 15,083\nPercentage of control applicants who converted: 53.76%\n"
     ]
    }
   ],
   "source": [
    "# Control group that has 5-field form\n",
    "print('Number of control applicants who converted with 5-field form: {:,}'.format(control_conv))\n",
    "print('Percentage of control applicants who converted: {:.2%}'.format(control_conv / control_total))"
   ]
  },
  {
   "cell_type": "code",
   "execution_count": 84,
   "metadata": {},
   "outputs": [
    {
     "output_type": "stream",
     "name": "stdout",
     "text": [
      "Number of treatment applicants who converted with 3-field form: 4,696\nPercentage of treatment applicants who converted: 54.55%\n"
     ]
    }
   ],
   "source": [
    "# Treatment group that has 3-field form\n",
    "print('Number of treatment applicants who converted with 3-field form: {:,}'.format(treatment_conv))\n",
    "print('Percentage of treatment applicants who converted: {:.2%}'.format(treatment_conv / treatment_total))"
   ]
  },
  {
   "source": [
    "# A/B Testing\n",
    "\n",
    "Now let's set some parameters for the A/B test."
   ],
   "cell_type": "markdown",
   "metadata": {}
  },
  {
   "cell_type": "code",
   "execution_count": 70,
   "metadata": {},
   "outputs": [
    {
     "output_type": "execute_result",
     "data": {
      "text/plain": [
       "0.5375842035855579"
      ]
     },
     "metadata": {},
     "execution_count": 70
    }
   ],
   "source": [
    "# Calculating the baseline conversion--the control group.\n",
    "baseline = control_conv / control_total\n",
    "baseline"
   ]
  },
  {
   "cell_type": "code",
   "execution_count": 71,
   "metadata": {},
   "outputs": [],
   "source": [
    "# Assigning practical significance (effect size)--subjective and user-defined. A 1% change in conversion probability can be large in real world.\n",
    "practical_sig = 0.01"
   ]
  },
  {
   "cell_type": "code",
   "execution_count": 72,
   "metadata": {},
   "outputs": [
    {
     "output_type": "execute_result",
     "data": {
      "text/plain": [
       "-0.02007327798961067"
      ]
     },
     "metadata": {},
     "execution_count": 72
    }
   ],
   "source": [
    "# Calculating the sample size with base and practical significance using statsmodel\n",
    "e_size = sms.proportion_effectsize(baseline, baseline + practical_sig)\n",
    "e_size"
   ]
  },
  {
   "cell_type": "code",
   "execution_count": 73,
   "metadata": {},
   "outputs": [
    {
     "output_type": "stream",
     "name": "stdout",
     "text": [
      "Sample size (n) for each group: 38,958\n"
     ]
    }
   ],
   "source": [
    "# Assign power (sensitivity) as 0.8 and alpha 0.05 (confidence level is 95%)\n",
    "sample_size = sms.NormalIndPower().solve_power(effect_size=e_size, power=0.8, alpha=0.05, ratio=1)\n",
    "\n",
    "print('Sample size (n) for each group: {:,}'.format(round(sample_size)))"
   ]
  },
  {
   "source": [
    "The test and control group assignment are not done correctly. Ideally, it is best to split the control and the treatment 50/50 so that each group have the same exposure. The control group is 76.52% of the data while the treatment group is 23.48% of the data. This means that one group will risk less exposure to an inferior variant during the test. In addition, sample sizes affect the conversion rate and confidence interval calculation (as shown above) which will cause skewness in the distribution and inaccuracies between the groups due to unequal sample sizes.\n",
    "\n",
    "It is apparent that there is an issue when calculating the required sample size for each group. Prior to the calculation of the A/B testing, we see that the required sample size is 38,958. However, there is only 8,609 in the treatment group which is 4.5x less than the required amount and therefore, the results are invalid. Moreover, the treatment group would not be able to do any classical t-test because it did not meet the required sample size to make inferences. In order to avoid this situation, it is best to calculate the required sample size per group prior to assigning control and treatment groups. Also the test should have continued until we have received 38,958 observations in the treatment group.\n",
    "\n",
    "Despite these issues, let's continue A/B testing anyway with the given data for the purpose of this project."
   ],
   "cell_type": "markdown",
   "metadata": {}
  },
  {
   "cell_type": "code",
   "execution_count": 74,
   "metadata": {},
   "outputs": [
    {
     "output_type": "execute_result",
     "data": {
      "text/plain": [
       "0.539437080674194"
      ]
     },
     "metadata": {},
     "execution_count": 74
    }
   ],
   "source": [
    "# Calculating the pooled probability of control and treatment groups--total number of users who converted divided by total number of users\n",
    "pool_prob = (control_conv + treatment_conv) / (control_total + treatment_total)\n",
    "pool_prob"
   ]
  },
  {
   "cell_type": "code",
   "execution_count": 75,
   "metadata": {},
   "outputs": [
    {
     "output_type": "execute_result",
     "data": {
      "text/plain": [
       "0.006141149640239014"
      ]
     },
     "metadata": {},
     "execution_count": 75
    }
   ],
   "source": [
    "# Calculating pooled standard error\n",
    "pool_se = math.sqrt(pool_prob * ( 1 - pool_prob) * (1 / control_total + 1 / treatment_total))\n",
    "pool_se"
   ]
  },
  {
   "cell_type": "code",
   "execution_count": 76,
   "metadata": {},
   "outputs": [
    {
     "output_type": "execute_result",
     "data": {
      "text/plain": [
       "1.959963984540054"
      ]
     },
     "metadata": {},
     "execution_count": 76
    }
   ],
   "source": [
    "# Calculating z-score; 0.975 represents 95% confidence interval of a two-tailed test ( 1 - (0.05/2))\n",
    "z_score = stats.norm.ppf(0.975)\n",
    "z_score"
   ]
  },
  {
   "cell_type": "code",
   "execution_count": 77,
   "metadata": {},
   "outputs": [
    {
     "output_type": "execute_result",
     "data": {
      "text/plain": [
       "0.012036432118539577"
      ]
     },
     "metadata": {},
     "execution_count": 77
    }
   ],
   "source": [
    "# Calculcate margin of error\n",
    "moe = z_score * pool_se\n",
    "moe"
   ]
  },
  {
   "cell_type": "code",
   "execution_count": 78,
   "metadata": {},
   "outputs": [
    {
     "output_type": "execute_result",
     "data": {
      "text/plain": [
       "0.007891461416184464"
      ]
     },
     "metadata": {},
     "execution_count": 78
    }
   ],
   "source": [
    "# Calculate \"d hat\"--estimating the difference between probability of converted experiment and probability of converted control.\n",
    "d_hat = (treatment_conv / treatment_total) - (control_conv / control_total)\n",
    "d_hat"
   ]
  },
  {
   "cell_type": "code",
   "execution_count": 79,
   "metadata": {},
   "outputs": [
    {
     "output_type": "stream",
     "name": "stdout",
     "text": [
      "Fail to reject the null hypothesis.\nThe confidence interval is: [-0.0041, 0.0199]\n"
     ]
    }
   ],
   "source": [
    "# Testing the hypothesis and calculcating the confidence interval\n",
    "lower_bound = d_hat - moe\n",
    "upper_bound = d_hat + moe\n",
    "\n",
    "if d_hat > upper_bound or d_hat < lower_bound or practical_sig < lower_bound:\n",
    "    print('Reject the null hypothesis.')\n",
    "else:\n",
    "    print('Fail to reject the null hypothesis.')\n",
    "\n",
    "print('The confidence interval is: [{}, {}]'.format(round(lower_bound, 4), round(upper_bound, 4)))"
   ]
  },
  {
   "source": [
    "# Conclusion\n",
    "\n",
    "Based on the testing, we fail to reject the null hypothesis. Therefore, this hypothesis test is not statistically significant and we are unable to provide enough evidence for the alternative hypothesis. It is statistically proven that there is no difference or the difference is too minimal that it's not worth implementing a 3 web form field from a 5 web form field. In fact, I am confident that there is not a practically significant change because it does not meet the 1% practical significance.\n",
    "\n",
    "The confidence interval is between -0.0041 and 0.0199 at the 95% confidence level. It is probable that the conversion rate would change by at least 0.41%. If we were to also consider the practical significance, a 1% change (like most industry standard), it does not meet the 1% threshold. In addition, these results make sense because we also did not meet the required sample size for the test, and therefore, we should continue testing as these results are not reliable.\n",
    "\n"
   ],
   "cell_type": "markdown",
   "metadata": {}
  },
  {
   "cell_type": "code",
   "execution_count": null,
   "metadata": {},
   "outputs": [],
   "source": []
  }
 ]
}